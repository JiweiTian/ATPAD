{
  "nbformat": 4,
  "nbformat_minor": 0,
  "metadata": {
    "colab": {
      "name": "hw2.ipynb",
      "provenance": [],
      "authorship_tag": "ABX9TyPzgZoRUIxsL+Rw+pGPFge1",
      "include_colab_link": true
    },
    "kernelspec": {
      "name": "python3",
      "display_name": "Python 3"
    }
  },
  "cells": [
    {
      "cell_type": "markdown",
      "metadata": {
        "id": "view-in-github",
        "colab_type": "text"
      },
      "source": [
        "<a href=\"https://colab.research.google.com/github/aliirmak/ATPAD/blob/master/hw2.ipynb\" target=\"_parent\"><img src=\"https://colab.research.google.com/assets/colab-badge.svg\" alt=\"Open In Colab\"/></a>"
      ]
    },
    {
      "cell_type": "code",
      "metadata": {
        "id": "YMJ1ZlO3M0Wb",
        "colab_type": "code",
        "colab": {}
      },
      "source": [
        "#import packages\n",
        "import time\n",
        "from copy import deepcopy\n",
        "import json\n",
        "import pymongo\n",
        "import os\n",
        "import datetime\n",
        "import pandas"
      ],
      "execution_count": 0,
      "outputs": []
    },
    {
      "cell_type": "code",
      "metadata": {
        "id": "C2HOAOhhNBr2",
        "colab_type": "code",
        "colab": {
          "base_uri": "https://localhost:8080/",
          "height": 85
        },
        "outputId": "a4f8a982-149a-4c3d-da59-9d29057914ca"
      },
      "source": [
        "#get the username and and password information - You need to run it one time at start\n",
        "from getpass import getpass\n",
        "\n",
        "USER = getpass('Enter User Name here: ')\n",
        "PASS = getpass('Enter Password here: ')\n",
        "HOST = getpass('Enter HOST here: ')\n",
        "PORT = getpass('Enter PORT here: ')"
      ],
      "execution_count": 6,
      "outputs": [
        {
          "output_type": "stream",
          "text": [
            "Enter User Name here: ··········\n",
            "Enter Password here: ··········\n",
            "Enter HOST here: ··········\n",
            "Enter PORT here: ··········\n"
          ],
          "name": "stdout"
        }
      ]
    },
    {
      "cell_type": "code",
      "metadata": {
        "id": "SSh44RaENPQD",
        "colab_type": "code",
        "colab": {}
      },
      "source": [
        "#set up mongo connection\n",
        "mongo_url = \"mongodb://{}:{}@{}:{}/?authSource={}\".format(USER,\n",
        "                                                         PASS,\n",
        "                                                         HOST,\n",
        "                                                         PORT,\n",
        "                                                         \"lahman\")\n",
        "\n",
        "client = pymongo.MongoClient(mongo_url)"
      ],
      "execution_count": 0,
      "outputs": []
    },
    {
      "cell_type": "code",
      "metadata": {
        "id": "tG8_CEU3NQXT",
        "colab_type": "code",
        "colab": {
          "base_uri": "https://localhost:8080/",
          "height": 71
        },
        "outputId": "ad66fca0-fefb-411e-ed17-a694d52c67a6"
      },
      "source": [
        "# Testing connection!\n",
        "db = client['lahman']\n",
        "#now print all collection names\n",
        "print(\"collection names: {}\".format(db.list_collection_names()))\n",
        "reading = db['Batting'].find_one()\n",
        "#print one batting documents\n",
        "reading[\"_id\"] = str(reading[\"_id\"])\n",
        "print(reading)"
      ],
      "execution_count": 12,
      "outputs": [
        {
          "output_type": "stream",
          "text": [
            "collection names: ['AwardsSharePlayers', 'HallOfFame', 'SeriesPost', 'Batting', 'Master', 'AwardsManagers', 'Managers', 'FieldingOF', 'TeamsHalf', 'TeamsFranchises', 'PitchingPost', 'AwardsPlayers', 'Appearances', 'Pitching', 'AllstarFull', 'Salaries', 'Fielding', 'FieldingPost', 'SchoolsPlayers', 'AwardsShareManagers', 'ManagersHalf', 'BattingPost', 'Teams', 'Schools']\n",
            "{'_id': '5e4ac8491431cc803cb47824', 'playerID': 'aardsda01', 'yearID': 2004, 'stint': 1, 'teamID': 'SFN', 'lgID': 'NL', 'G': 11, 'G_batting': 11, 'AB': 0, 'R': 0, 'H': 0, '2B': 0, '3B': 0, 'HR': 0, 'RBI': 0, 'SB': 0, 'CS': 0, 'BB': 0, 'SO': 0, 'IBB': 0, 'HBP': 0, 'SH': 0, 'SF': 0, 'GIDP': 0, 'G_old': 11}\n"
          ],
          "name": "stdout"
        }
      ]
    },
    {
      "cell_type": "markdown",
      "metadata": {
        "id": "7Crn67V-OEuN",
        "colab_type": "text"
      },
      "source": [
        "\n",
        "\n",
        "1. The number of all stars in allstarfull.\n",
        "2. The most home runs in a season by a single player (using the batting table).\n",
        "3. The playerid of the player with the most home runs in a season.\n",
        "4. The number of leagues in the batting table.\n",
        "5. Barry Bond's average batting average (playerid = 'bondsba01') where batting average is hits / at-bats. Note you will nead to cast hits to get a decimal: cast(h as real)\n",
        "6. The teamid with the fewest hits in the year 2000 (ie., yearid = '2000'). Return both the teamid, and the number of hits. Note you can use ORDER BY column and LIMIT 1.\n",
        "7. The teamid in the year 2000 (i.e., yearid = '2000') with the highest average batting average. Return the teamid and the average. To prevent divsion by 0, limit at-bats > 0.\n",
        "8. The number of all stars the giants (teamid = 'SFN') had in 2000.\n",
        "9. The yearid which the giants had the most all stars.\n",
        "10. The average salary in year 2000.\n",
        "11. The number of positions (e.g., catchers, pitchers) that have average salaries greather than 2000000 in yearid 2000. You will need to join fielding with salaries. Also consider using a HAVING clause.\n",
        "12. The number of errors Barry Bonds had in 2000.\n",
        "13. The average salary of all stars in 2000.\n",
        "14. The average salary of non-all stars in 2000."
      ]
    },
    {
      "cell_type": "code",
      "metadata": {
        "id": "Mt50mJOZSm7U",
        "colab_type": "code",
        "colab": {}
      },
      "source": [
        "def q1():\n",
        "  return 0\n",
        "\n",
        "def q2():\n",
        "  return 0\n",
        "\n",
        "def q3():\n",
        "  return 0\n",
        "\n",
        "def q4():\n",
        "  return 0\n",
        "\n",
        "def q5():\n",
        "  return 0\n",
        "\n",
        "def q6():\n",
        "  return 0\n",
        "\n",
        "def q7():\n",
        "  return 0\n",
        "\n",
        "def q8():\n",
        "  return 0\n",
        "\n",
        "def q9():\n",
        "  return 0\n",
        "\n",
        "def q10():\n",
        "  return 0\n",
        "\n",
        "def q11():\n",
        "  return 0\n",
        "\n",
        "def q12():\n",
        "  return 0\n",
        "\n",
        "def q13():\n",
        "  return 0\n",
        "\n",
        "def q14():\n",
        "  return 0"
      ],
      "execution_count": 0,
      "outputs": []
    },
    {
      "cell_type": "code",
      "metadata": {
        "id": "FwHho8fEP9QQ",
        "colab_type": "code",
        "colab": {}
      },
      "source": [
        "def test_q1():\n",
        "    result_q1 = q1()\n",
        "    assert result_q1[0][0] == 4834\n",
        "\n",
        "def test_q2():\n",
        "    result_q2 = q2()\n",
        "    assert result_q2[0][0] == 73\n",
        "\n",
        "def test_q3():\n",
        "    result_q3 = q3()\n",
        "    assert result_q3[0][0] == 'bondsba01'\n",
        "\n",
        "def test_q4():\n",
        "    result_q4 = q4()\n",
        "    assert result_q4[0][0] == 7\n",
        "\n",
        "def test_q5():\n",
        "    result_q5 = q5()\n",
        "    assert math.isclose(result_q5[0][0], 0.29830576286005)\n",
        "\n",
        "def test_q6():\n",
        "    result_q6 = q6()\n",
        "    assert result_q6[0][0] == 'MIL'\n",
        "    assert result_q6[0][1] == 1366\n",
        "\n",
        "def test_q7():\n",
        "    result_q7 = q7()\n",
        "    assert result_q7[0][0] == 'SEA'\n",
        "    assert math.isclose(result_q7, 0.280799158489005)\n",
        "\n",
        "def test_q8():\n",
        "    result_q8 = q8()\n",
        "    assert result_q8[0][0] == 2\n",
        "\n",
        "def test_q9():\n",
        "    result_q9 = q9()\n",
        "    assert result_q9[0][0] == 1966\n",
        "\n",
        "def test_q10():\n",
        "    result_q10 = q10()\n",
        "    assert int(result_q10[0][0]) == 1992984\n",
        "\n",
        "def test_q11():\n",
        "    result_q11 = q11()\n",
        "    assert result_q11[0][0] == 3\n",
        "\n",
        "def test_q12():\n",
        "    result_q12 = q12()\n",
        "    assert result_q12[0][0] == 6\n",
        "\n",
        "def test_q13():\n",
        "    result_q13 = q13()\n",
        "    assert int(result_q13[0][0]) == 5388841\n",
        "\n",
        "def test_q14():\n",
        "    result_q14 = q14()\n",
        "    assert int(result_q14[0][0]) == 1692309"
      ],
      "execution_count": 0,
      "outputs": []
    },
    {
      "cell_type": "code",
      "metadata": {
        "id": "FU8OU7uAQFow",
        "colab_type": "code",
        "colab": {
          "base_uri": "https://localhost:8080/",
          "height": 368
        },
        "outputId": "98a06776-0789-444e-e6cc-085cb1341ef3"
      },
      "source": [
        "print()\n",
        "  \n",
        "test_q1()\n",
        "print('Q1 - succesful')\n",
        "test_q2()\n",
        "print('Q2 - succesful')\n",
        "test_q3()\n",
        "print('Q3 - succesful')\n",
        "test_q4()\n",
        "print('Q4 - succesful')\n",
        "test_q5()\n",
        "print('Q5 - succesful')\n",
        "test_q6()\n",
        "print('Q6 - succesful')\n",
        "test_q7()\n",
        "print('Q7 - succesful')\n",
        "test_q8()\n",
        "print('Q8 - succesful')\n",
        "test_q9()\n",
        "print('Q9 - succesful')\n",
        "test_q10()\n",
        "print('Q10 - succesful')\n",
        "test_q11()\n",
        "print('Q11 - succesful')\n",
        "test_q12()\n",
        "print('Q12 - succesful')\n",
        "test_q13()\n",
        "print('Q13 - succesful')\n",
        "test_q14()\n",
        "print('Q14 - succesful')\n",
        "\n",
        "print('All asserts are successful!')"
      ],
      "execution_count": 20,
      "outputs": [
        {
          "output_type": "stream",
          "text": [
            "\n"
          ],
          "name": "stdout"
        },
        {
          "output_type": "error",
          "ename": "TypeError",
          "evalue": "ignored",
          "traceback": [
            "\u001b[0;31m---------------------------------------------------------------------------\u001b[0m",
            "\u001b[0;31mTypeError\u001b[0m                                 Traceback (most recent call last)",
            "\u001b[0;32m<ipython-input-20-d7d5fe1cbcef>\u001b[0m in \u001b[0;36m<module>\u001b[0;34m()\u001b[0m\n\u001b[1;32m      1\u001b[0m \u001b[0mprint\u001b[0m\u001b[0;34m(\u001b[0m\u001b[0;34m)\u001b[0m\u001b[0;34m\u001b[0m\u001b[0;34m\u001b[0m\u001b[0m\n\u001b[1;32m      2\u001b[0m \u001b[0;34m\u001b[0m\u001b[0m\n\u001b[0;32m----> 3\u001b[0;31m \u001b[0mtest_q1\u001b[0m\u001b[0;34m(\u001b[0m\u001b[0;34m)\u001b[0m\u001b[0;34m\u001b[0m\u001b[0;34m\u001b[0m\u001b[0m\n\u001b[0m\u001b[1;32m      4\u001b[0m \u001b[0mprint\u001b[0m\u001b[0;34m(\u001b[0m\u001b[0;34m'Q1 - succesful'\u001b[0m\u001b[0;34m)\u001b[0m\u001b[0;34m\u001b[0m\u001b[0;34m\u001b[0m\u001b[0m\n\u001b[1;32m      5\u001b[0m \u001b[0mtest_q2\u001b[0m\u001b[0;34m(\u001b[0m\u001b[0;34m)\u001b[0m\u001b[0;34m\u001b[0m\u001b[0;34m\u001b[0m\u001b[0m\n",
            "\u001b[0;32m<ipython-input-19-4b358fd31cc1>\u001b[0m in \u001b[0;36mtest_q1\u001b[0;34m()\u001b[0m\n\u001b[1;32m      1\u001b[0m \u001b[0;32mdef\u001b[0m \u001b[0mtest_q1\u001b[0m\u001b[0;34m(\u001b[0m\u001b[0;34m)\u001b[0m\u001b[0;34m:\u001b[0m\u001b[0;34m\u001b[0m\u001b[0;34m\u001b[0m\u001b[0m\n\u001b[1;32m      2\u001b[0m     \u001b[0mresult_q1\u001b[0m \u001b[0;34m=\u001b[0m \u001b[0mq1\u001b[0m\u001b[0;34m(\u001b[0m\u001b[0;34m)\u001b[0m\u001b[0;34m\u001b[0m\u001b[0;34m\u001b[0m\u001b[0m\n\u001b[0;32m----> 3\u001b[0;31m     \u001b[0;32massert\u001b[0m \u001b[0mresult_q1\u001b[0m\u001b[0;34m[\u001b[0m\u001b[0;36m0\u001b[0m\u001b[0;34m]\u001b[0m\u001b[0;34m[\u001b[0m\u001b[0;36m0\u001b[0m\u001b[0;34m]\u001b[0m \u001b[0;34m==\u001b[0m \u001b[0;36m4834\u001b[0m\u001b[0;34m\u001b[0m\u001b[0;34m\u001b[0m\u001b[0m\n\u001b[0m\u001b[1;32m      4\u001b[0m \u001b[0;34m\u001b[0m\u001b[0m\n\u001b[1;32m      5\u001b[0m \u001b[0;32mdef\u001b[0m \u001b[0mtest_q2\u001b[0m\u001b[0;34m(\u001b[0m\u001b[0;34m)\u001b[0m\u001b[0;34m:\u001b[0m\u001b[0;34m\u001b[0m\u001b[0;34m\u001b[0m\u001b[0m\n",
            "\u001b[0;31mTypeError\u001b[0m: 'int' object is not subscriptable"
          ]
        }
      ]
    }
  ]
}